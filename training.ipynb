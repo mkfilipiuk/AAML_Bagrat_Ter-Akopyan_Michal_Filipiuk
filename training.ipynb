{
 "cells": [
  {
   "cell_type": "code",
   "execution_count": null,
   "metadata": {},
   "outputs": [],
   "source": [
    "!./prepare_dataset.sh"
   ]
  },
  {
   "cell_type": "code",
   "execution_count": 1,
   "metadata": {},
   "outputs": [],
   "source": [
    "import sys,os,os.path\n",
    "os.environ['WORLD_SIZE']='1'"
   ]
  },
  {
   "cell_type": "code",
   "execution_count": null,
   "metadata": {
    "scrolled": true
   },
   "outputs": [
    {
     "name": "stdout",
     "output_type": "stream",
     "text": [
      "speedup_run_1_cores\n",
      "{'desc': 'speedup_run_1_cores', 'threads': 1, 'data': './data/cache/ml-20m', 'epochs': 1, 'batch_size': 1048576, 'valid_batch_size': 1048576, 'factors': 64, 'layers': [256, 256, 128, 64], 'negative_samples': 4, 'learning_rate': 0.0045, 'topk': 10, 'seed': None, 'threshold': 1.0, 'beta1': 0.25, 'beta2': 0.5, 'eps': 1e-08, 'dropout': 0.5, 'checkpoint_dir': './data/checkpoints/', 'load_checkpoint_path': None, 'mode': 'train', 'grads_accumulated': 1, 'amp': False, 'log_path': 'log.json', 'world_size': 1, 'distributed': False, 'local_rank': 0} step='PARAMETER'\n",
      "Saving results to ./data/checkpoints/\n",
      "NeuMF(\n",
      "  (mf_user_embed): Embedding(138493, 64)\n",
      "  (mf_item_embed): Embedding(26744, 64)\n",
      "  (mlp_user_embed): Embedding(138493, 128)\n",
      "  (mlp_item_embed): Embedding(26744, 128)\n",
      "  (mlp): ModuleList(\n",
      "    (0): Linear(in_features=256, out_features=256, bias=True)\n",
      "    (1): Linear(in_features=256, out_features=128, bias=True)\n",
      "    (2): Linear(in_features=128, out_features=64, bias=True)\n",
      "  )\n",
      "  (final): Linear(in_features=128, out_features=1, bias=True)\n",
      ")\n",
      "31832577 parameters\n"
     ]
    }
   ],
   "source": [
    "!python speedups_runs.py"
   ]
  },
  {
   "cell_type": "code",
   "execution_count": null,
   "metadata": {},
   "outputs": [],
   "source": [
    "!python weak_scaling.py"
   ]
  }
 ],
 "metadata": {
  "kernelspec": {
   "display_name": "Python 3",
   "language": "python",
   "name": "python3"
  },
  "language_info": {
   "codemirror_mode": {
    "name": "ipython",
    "version": 3
   },
   "file_extension": ".py",
   "mimetype": "text/x-python",
   "name": "python",
   "nbconvert_exporter": "python",
   "pygments_lexer": "ipython3",
   "version": "3.6.10"
  }
 },
 "nbformat": 4,
 "nbformat_minor": 4
}
