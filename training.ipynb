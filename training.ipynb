{
 "cells": [
  {
   "cell_type": "code",
   "execution_count": 2,
   "metadata": {},
   "outputs": [
    {
     "name": "stdout",
     "output_type": "stream",
     "text": [
      "+ DATASET_NAME=ml-20m\r\n",
      "+ RAW_DATADIR=./data\r\n",
      "+ CACHED_DATADIR=./data/cache/ml-20m\r\n",
      "+ case ${DATASET_NAME} in\r\n",
      "+ ZIP_PATH=./data/ml-20m.zip\r\n",
      "+ RATINGS_PATH=./data/ml-20m/ratings.csv\r\n",
      "+ '[' '!' -d ./data ']'\r\n",
      "+ '[' '!' -d ./data/cache/ml-20m ']'\r\n",
      "+ '[' -f log ']'\r\n",
      "+ '[' '!' -f ./data/ml-20m.zip ']'\r\n",
      "+ '[' '!' -f ./data/ml-20m/ratings.csv ']'\r\n",
      "+ '[' '!' -f ./data/cache/ml-20m/train_ratings.pt ']'\r\n",
      "+ echo 'Using cached preprocessed data'\r\n",
      "Using cached preprocessed data\r\n",
      "+ echo 'Dataset ml-20m successfully prepared at: ./data/cache/ml-20m\\n'\r\n",
      "Dataset ml-20m successfully prepared at: ./data/cache/ml-20m\\n\r\n",
      "+ echo 'You can now run the training with: python -m torch.distributed.launch --nproc_per_node=<number_of_GPUs> --use_env ncf.py --data ./data/cache/ml-20m'\r\n",
      "You can now run the training with: python -m torch.distributed.launch --nproc_per_node=<number_of_GPUs> --use_env ncf.py --data ./data/cache/ml-20m\r\n"
     ]
    }
   ],
   "source": [
    "!./prepare_dataset.sh"
   ]
  },
  {
   "cell_type": "code",
   "execution_count": null,
   "metadata": {},
   "outputs": [],
   "source": [
    "!python speedu_runs.py"
   ]
  },
  {
   "cell_type": "code",
   "execution_count": null,
   "metadata": {},
   "outputs": [],
   "source": [
    "!python weak_scaling.py"
   ]
  }
 ],
 "metadata": {
  "kernelspec": {
   "display_name": "Python 3",
   "language": "python",
   "name": "python3"
  },
  "language_info": {
   "codemirror_mode": {
    "name": "ipython",
    "version": 3
   },
   "file_extension": ".py",
   "mimetype": "text/x-python",
   "name": "python",
   "nbconvert_exporter": "python",
   "pygments_lexer": "ipython3",
   "version": "3.6.10"
  }
 },
 "nbformat": 4,
 "nbformat_minor": 4
}
